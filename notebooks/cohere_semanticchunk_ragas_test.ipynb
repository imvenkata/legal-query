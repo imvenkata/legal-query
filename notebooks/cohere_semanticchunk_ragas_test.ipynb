{
 "cells": [
  {
   "cell_type": "code",
   "execution_count": 1,
   "metadata": {},
   "outputs": [],
   "source": [
    "import os\n",
    "os.chdir(\"../\")\n",
    "\n",
    "from src.chroma_store import initialize_vectorstore, load_documents_from_dir\n",
    "from src.chunking_strategies import chunk_by_semantic, chunk_by_recursive_split\n",
    "from src.rag_pipeline import create_rank_fusion_chain, generate_answer\n",
    "from langchain_openai import ChatOpenAI\n",
    "from src.utils import format_tuple_docs_to_text, format_docs_to_text"
   ]
  },
  {
   "cell_type": "code",
   "execution_count": 2,
   "metadata": {},
   "outputs": [],
   "source": [
    "from langchain_experimental.text_splitter import SemanticChunker\n",
    "from langchain_openai.embeddings import OpenAIEmbeddings\n",
    "\n",
    "text_splitter = SemanticChunker(\n",
    "    OpenAIEmbeddings()\n",
    ")\n",
    "\n"
   ]
  },
  {
   "cell_type": "code",
   "execution_count": 3,
   "metadata": {},
   "outputs": [],
   "source": [
    "from langchain_cohere import CohereEmbeddings\n",
    "\n",
    "embeddings = CohereEmbeddings(\n",
    "    model=\"embed-english-v3.0\"\n",
    ")\n"
   ]
  },
  {
   "cell_type": "code",
   "execution_count": 4,
   "metadata": {},
   "outputs": [
    {
     "name": "stdout",
     "output_type": "stream",
     "text": [
      "--INFO-- Loading documents from data/content\n",
      "--INFO-- Loaded 1 documents\n"
     ]
    },
    {
     "name": "stderr",
     "output_type": "stream",
     "text": [
      "2024-07-10 08:03:37 - httpx - INFO - HTTP Request: POST https://api.openai.com/v1/embeddings \"HTTP/1.1 200 OK\"\n",
      "2024-07-10 08:03:38 - src.chroma_store - INFO - Clearing out the chroma database.\n",
      "2024-07-10 08:03:38 - src.chroma_store - INFO - Creating a new chroma database.\n",
      "2024-07-10 08:03:41 - chromadb.telemetry.product.posthog - INFO - Anonymized telemetry enabled. See                     https://docs.trychroma.com/telemetry for more information.\n",
      "2024-07-10 08:03:43 - httpx - INFO - HTTP Request: POST https://api.openai.com/v1/embeddings \"HTTP/1.1 200 OK\"\n"
     ]
    }
   ],
   "source": [
    "# Load the documents from the data directory.\n",
    "documents = load_documents_from_dir(\"data/content\")\n",
    "\n",
    "chunks = text_splitter.create_documents([document.page_content for document in documents])\n",
    "# print(docs[0].page_content)\n",
    "# chunks = chunk_by_recursive_split(documents, chunk_size=800)\n",
    "\n",
    "vectorstore = initialize_vectorstore(chunks)"
   ]
  },
  {
   "cell_type": "code",
   "execution_count": 5,
   "metadata": {},
   "outputs": [
    {
     "name": "stdout",
     "output_type": "stream",
     "text": [
      "- 2-\n",
      "\n",
      "ADVISORY SERVICES AGREEMENT\n",
      "\n",
      "This Advisory Services Agreement is entered into as of June 15th, 2023 (the “Effective Date”), by and between Cloud Investments Ltd., ID 51-426526-3, an Israeli company (the \"Company\"), and Mr. Jack Robinson, Passport Number 780055578, residing at 1 Rabin st, Tel Aviv, Israel, Email: jackrobinson@gmail.com (\"Advisor\"). Whereas,\tAdvisor has expertise and/or knowledge and/or relationships, which are relevant to the Company’s business and the Company has asked Advisor to provide it with certain Advisory services, as described in this Agreement; and\n",
      "\n",
      "Whereas, \tAdvisor has agreed to provide the Company with such services, subject to the terms set forth in this Agreement.\n"
     ]
    }
   ],
   "source": [
    "print(chunks[0].page_content)"
   ]
  },
  {
   "cell_type": "code",
   "execution_count": 6,
   "metadata": {},
   "outputs": [],
   "source": [
    "similarity_count = 5\n",
    "retriever = vectorstore.as_retriever(search_kwargs={\"k\": similarity_count})"
   ]
  },
  {
   "cell_type": "markdown",
   "metadata": {},
   "source": [
    "### Question"
   ]
  },
  {
   "cell_type": "code",
   "execution_count": 7,
   "metadata": {},
   "outputs": [],
   "source": [
    "question = \"Who are the parties to the Agreement and what are their defined names?\"\n"
   ]
  },
  {
   "cell_type": "markdown",
   "metadata": {},
   "source": [
    "#### Test answer generation"
   ]
  },
  {
   "cell_type": "code",
   "execution_count": 6,
   "metadata": {},
   "outputs": [
    {
     "name": "stderr",
     "output_type": "stream",
     "text": [
      "2024-07-10 07:46:19 - httpx - INFO - HTTP Request: POST https://api.cohere.com/v1/embed \"HTTP/1.1 200 OK\"\n",
      "2024-07-10 07:46:40 - httpx - INFO - HTTP Request: POST https://api.cohere.com/v1/embed \"HTTP/1.1 200 OK\"\n",
      "2024-07-10 07:47:03 - httpx - INFO - HTTP Request: POST https://api.cohere.com/v1/embed \"HTTP/1.1 200 OK\"\n",
      "2024-07-10 07:47:07 - httpx - INFO - HTTP Request: POST https://api.cohere.com/v1/embed \"HTTP/1.1 200 OK\"\n",
      "2024-07-10 07:47:11 - httpx - INFO - HTTP Request: POST https://api.cohere.com/v1/embed \"HTTP/1.1 200 OK\"\n",
      "2024-07-10 07:47:16 - httpx - INFO - HTTP Request: POST https://api.cohere.com/v1/embed \"HTTP/1.1 200 OK\"\n",
      "2024-07-10 07:47:20 - httpx - INFO - HTTP Request: POST https://api.cohere.com/v1/embed \"HTTP/1.1 200 OK\"\n",
      "2024-07-10 07:47:24 - httpx - INFO - HTTP Request: POST https://api.cohere.com/v1/embed \"HTTP/1.1 200 OK\"\n",
      "2024-07-10 07:47:28 - httpx - INFO - HTTP Request: POST https://api.cohere.com/v1/embed \"HTTP/1.1 200 OK\"\n",
      "2024-07-10 07:47:32 - httpx - INFO - HTTP Request: POST https://api.cohere.com/v1/embed \"HTTP/1.1 200 OK\"\n",
      "2024-07-10 07:47:36 - httpx - INFO - HTTP Request: POST https://api.cohere.com/v1/embed \"HTTP/1.1 200 OK\"\n",
      "2024-07-10 07:47:40 - httpx - INFO - HTTP Request: POST https://api.cohere.com/v1/embed \"HTTP/1.1 200 OK\"\n"
     ]
    },
    {
     "name": "stderr",
     "output_type": "stream",
     "text": [
      "2024-07-10 07:46:20 - httpx - INFO - HTTP Request: POST https://api.cohere.com/v1/rerank \"HTTP/1.1 200 OK\"\n"
     ]
    }
   ],
   "source": [
    "from langchain.retrievers.contextual_compression import ContextualCompressionRetriever\n",
    "from langchain_cohere import CohereRerank\n",
    "from langchain_community.llms import Cohere\n",
    "from langchain_cohere import ChatCohere\n",
    "\n",
    "\n",
    "llm = ChatCohere(\n",
    "    model=\"command\",\n",
    "    temperature=0,\n",
    ")\n",
    "\n",
    "retriever = vectorstore.as_retriever(\n",
    "    search_type=\"similarity\",\n",
    "    search_kwargs={\n",
    "        \"k\": 5,\n",
    "    }\n",
    ")\n",
    "compressor = CohereRerank()\n",
    "compression_retriever = ContextualCompressionRetriever(\n",
    "    base_compressor=compressor, base_retriever=retriever\n",
    ")\n",
    "\n",
    "compressed_docs = compression_retriever.invoke(\n",
    "    question\n",
    ")\n",
    "# pretty_print_docs(compressed_docs)"
   ]
  },
  {
   "cell_type": "code",
   "execution_count": 10,
   "metadata": {},
   "outputs": [],
   "source": [
    "llm = ChatOpenAI(model=\"gpt-4o\", temperature=0)\n",
    "\n"
   ]
  },
  {
   "cell_type": "code",
   "execution_count": 9,
   "metadata": {},
   "outputs": [
    {
     "name": "stderr",
     "output_type": "stream",
     "text": [
      "2024-07-10 00:59:25 - httpx - INFO - HTTP Request: POST https://api.openai.com/v1/chat/completions \"HTTP/1.1 200 OK\"\n",
      "2024-07-10 00:59:26 - httpx - INFO - HTTP Request: POST https://api.openai.com/v1/embeddings \"HTTP/1.1 200 OK\"\n",
      "2024-07-10 00:59:26 - httpx - INFO - HTTP Request: POST https://api.openai.com/v1/embeddings \"HTTP/1.1 200 OK\"\n",
      "2024-07-10 00:59:26 - httpx - INFO - HTTP Request: POST https://api.openai.com/v1/embeddings \"HTTP/1.1 200 OK\"\n",
      "2024-07-10 00:59:26 - httpx - INFO - HTTP Request: POST https://api.openai.com/v1/embeddings \"HTTP/1.1 200 OK\"\n",
      "2024-07-10 00:59:26 - httpx - INFO - HTTP Request: POST https://api.openai.com/v1/embeddings \"HTTP/1.1 200 OK\"\n"
     ]
    },
    {
     "name": "stdout",
     "output_type": "stream",
     "text": [
      "[(Document(page_content='Entire Agreement; No Waiver or Assignment: This Agreement together with the Exhibits, which are attached hereto and incorporated herein, set forth the entire Agreement between the parties and shall supersede all previous communications and agreements between the parties, either oral or written. This Agreement may be modified only by a written amendment executed by both parties. This Agreement may not be assigned, sold, delegated or transferred in any manner by Advisor for any reason whatsoever. The Company may assign the Agreement to a successor of all or substantially all of its assets or business, provided the assignee has assumed the Company’s obligations under this Agreement.', metadata={'source': 'data/content/Robinson Advisory.docx', 'start_index': 7616}), 0.08253968253968252), (Document(page_content='Governing Law and Jurisdiction:  This Agreement shall be governed by the laws of the State of Israel, without giving effect to the rules respecting conflicts of laws. The parties consent to the exclusive jurisdiction and venue of Tel Aviv courts for any lawsuit filed arising from or relating to this Agreement.\\n\\nNotices: Notices under this Agreement shall be delivered to the party’s email address as follows: Company: info@cloudcorp.com, Advisor: jackrobinson@gmail.com, or in any the other means with a proof of acceptance by the other party.\\n\\nIN WITNESS WHEREOF the parties have executed this Agreement as of the date first above written.\\n\\nCloud Investments Ltd.\\t\\t\\t\\tAdvisor \\n\\nBy: ________________________\\t\\tBy:________________________\\n\\nName:\\tSilvan Joseph\\t\\t\\t\\tName:\\tJack Robinson', metadata={'source': 'data/content/Robinson Advisory.docx', 'start_index': 8306}), 0.08118237599993286), (Document(page_content=\"Advisor further agrees and undertakes to (i) comply with all the Company's policies, procedures and objectives, as in effect from time to time; (ii) adhere to any applicable law or provision, pertaining to his services; (iii) not take any action with the intention that the same will cause material damage to the good name of the Company; (iv) keep the contents of this Agreement confidential and not to disclose the existence or contents of this Agreement to any third party without the prior written consent of the Company.\", metadata={'source': 'data/content/Robinson Advisory.docx', 'start_index': 1784}), 0.0811739820200952), (Document(page_content='Third Parties: The Advisor represents that the performance of the Services and the terms of this Undertaking, do not and will not breach any right, contractual or other, of any employer, customer or other third party. Advisor acknowledges that the Company is relying upon the truthfulness and accuracy of such representations in engaging with the Advisor. Advisor specifically undertakes not to use any proprietary and/or confidential information belonging to the Advisor and/or any third party while performing the Services and in case any Advisor proprietary or confidential information is used, such information will be automatically assigned to the Company and become its full and exclusive property.', metadata={'source': 'data/content/Robinson Advisory.docx', 'start_index': 12676}), 0.07991871479774705), (Document(page_content=\"Relationship of the Parties; Indemnification: The sole relationship between the Company and the Advisor shall be that of independent contractors. Advisor shall not be deemed to be, nor treated by the Company as, an employee of the Company. Advisor shall not receive nor be entitled to overtime pay, insurance, paid vacation, severance payments or similar fringe or employment benefits from the Company. Without derogating from the above, if it is adjudicated or otherwise determined by any governmental authority that the Advisor and/or anyone on Advisor's behalf, is, regardless of the terms of this Agreement, an employee of the Company, then payments to Advisor hereunder shall be reduced effective retroactively as of the beginning of the Term so that 60% of such payments shall constitute\", metadata={'source': 'data/content/Robinson Advisory.docx', 'start_index': 6284}), 0.015873015873015872), (Document(page_content='Jurisdiction: This Undertaking shall be governed by and construed in accordance with the laws of the State of Israel, without giving effect to its laws pertaining to conflict of laws.\\xa0 The Advisor agrees that any and all disputes in connection with this Undertaking shall be submitted to the exclusive jurisdiction of the competent courts in the city of Tel Aviv-Yafo, Israel.\\n\\nPre-Undertaking: In case the Advisor has been providing Services to the Company before the Effective Date (“Pre-Undertaking Period”), this Undertaking shall also apply to the Pre-Undertaking Period, including, if relevant, before Company’s incorporation. The Company may assign this undertaking to third parties.\\n\\nIN WITNESS WHEREOF, the undersigned has executed this Undertaking as of the Effective Date.', metadata={'source': 'data/content/Robinson Advisory.docx', 'start_index': 13382}), 0.015873015873015872), (Document(page_content=\"No Conflicts: Advisor represents that there is no contractual or other legal restriction preventing or limiting him/her from entering into this Agreement or performing any of his/her obligations hereunder. Advisor shall immediately and without delay inform the Company of any affairs and/or matters that might constitute a conflict of interest with his/her services to Company and/or the interests of the Company. Advisor agrees to indemnify, defend and hold harmless the Company and its directors, officers and employees against all claims, liabilities, and costs, including reasonable attorneys' fees in connection with any breach by Advisor, of any obligations pursuant to a prior or existing engagement with any other third party, including without limitation other employers or clients.\", metadata={'source': 'data/content/Robinson Advisory.docx', 'start_index': 2590}), 0.015625), (Document(page_content='Personnel: The Advisor may provide the Services only directly or through employees, contractors or agents (“Personnel”), which were specifically approved by the Company, and have committed in writing to confidentiality and ownership rights towards the Advisor and/or the Company, in a form restrictive enough to allow Advisor to comply and enforce the commitments under this undertaking (“Authorized Personnel”). Without limiting the foregoing, the Advisor is liable hereunder for any breach of this undertaking by any Advisor Personnel.', metadata={'source': 'data/content/Robinson Advisory.docx', 'start_index': 12137}), 0.015625), (Document(page_content='Advisor By: _____________________________________ Name: Jack Robinson', metadata={'source': 'data/content/Robinson Advisory.docx', 'start_index': 14167}), 0.015625)]\n"
     ]
    },
    {
     "name": "stderr",
     "output_type": "stream",
     "text": [
      "2024-07-10 00:59:28 - httpx - INFO - HTTP Request: POST https://api.openai.com/v1/chat/completions \"HTTP/1.1 200 OK\"\n"
     ]
    }
   ],
   "source": [
    "\n",
    "\n",
    "retrieval_chain = create_rank_fusion_chain(question, llm, retriever)\n",
    "docs = retrieval_chain.invoke({\"question\": question})\n",
    "# docs = retriever.invoke(question)\n",
    "print(docs)\n",
    "\n",
    "context_text = format_tuple_docs_to_text(docs)\n",
    "\n",
    "answer = generate_answer(question, context_text, llm=llm)"
   ]
  },
  {
   "cell_type": "code",
   "execution_count": 10,
   "metadata": {},
   "outputs": [
    {
     "data": {
      "text/plain": [
       "'The parties to the Agreement are Cloud Investments Ltd. (\"Company\") and Jack Robinson (\"Advisor\").'"
      ]
     },
     "execution_count": 10,
     "metadata": {},
     "output_type": "execute_result"
    }
   ],
   "source": [
    "answer"
   ]
  },
  {
   "cell_type": "code",
   "execution_count": null,
   "metadata": {},
   "outputs": [],
   "source": []
  },
  {
   "cell_type": "markdown",
   "metadata": {},
   "source": [
    "### Ragas for testing"
   ]
  },
  {
   "cell_type": "code",
   "execution_count": 11,
   "metadata": {},
   "outputs": [],
   "source": [
    "from ragas import evaluate\n",
    "from datasets import Dataset\n",
    "from ragas.metrics import (\n",
    "    answer_correctness,\n",
    "    faithfulness,\n",
    "    context_precision,\n",
    "    context_recall,\n",
    "    context_relevancy,\n",
    "    answer_relevancy,\n",
    ")\n",
    "\n",
    "from src.utils import extract_qa_pairs_to_df, format_tuple_docs_to_text, format_docs_to_text\n",
    "# from backend.app.rag.rag_utils import generate_answer\n",
    "from src.rag_pipeline import generate_answer\n",
    "\n",
    "def evaluate_metrics(dataset):\n",
    "  # evaluating dataest on listed metrics\n",
    "  result = evaluate(\n",
    "      dataset=dataset,\n",
    "      metrics=[\n",
    "          answer_correctness,\n",
    "          faithfulness,\n",
    "          context_precision,\n",
    "          context_recall\n",
    "      ]\n",
    "  )\n",
    "\n",
    "\n",
    "  df_results = result.to_pandas()\n",
    "\n",
    "  return df_results\n",
    "import time\n",
    "def run_evaluation(retriever,\n",
    "                   file_path=\"data/evaluation_sets/Robinson_Q&A.docx\",\n",
    "                    llm=None,\n",
    "                   test_size=None):  # Replace with your actual file path\n",
    "  df = extract_qa_pairs_to_df(file_path)\n",
    "\n",
    "  if test_size:\n",
    "    df = df.head(test_size)\n",
    "    \n",
    "  # Change the df columns to list\n",
    "  questions = df[\"question\"].tolist()\n",
    "  ground_truths = df[\"ground_truths\"].tolist()\n",
    "\n",
    "\n",
    "  answers = []\n",
    "  contexts = []\n",
    "  # Inference\n",
    "  for query in questions:\n",
    "    #   documents = retriever.get_relevant_documents(query)\n",
    "    \n",
    "      time.sleep(2)\n",
    "    \n",
    "      # retrieval_chain = create_rank_fusion_chain(question, llm, compression_retriever)\n",
    "      # documents = retrieval_chain.invoke({\"question\": query})\n",
    "      \n",
    "      # Cohere Compression retrieval\n",
    "      documents = retriever.get_relevant_documents(query)\n",
    "        \n",
    "      contexts.append(\n",
    "          [docs.page_content for docs in documents]\n",
    "      )\n",
    "      context_text = format_docs_to_text(documents)\n",
    "\n",
    "      answers.append(generate_answer(query, context_text, llm=llm))\n",
    "      \n",
    "  # To dict\n",
    "  data = {\n",
    "      \"question\": questions,\n",
    "      \"answer\": answers,\n",
    "      \"contexts\": contexts,\n",
    "      \"ground_truth\": ground_truths,\n",
    "  }\n",
    "\n",
    "  # Convert dict to dataset\n",
    "  dataset = Dataset.from_dict(data)\n",
    "  \n",
    "  results = evaluate_metrics(dataset)\n",
    "  return results\n",
    "\n"
   ]
  },
  {
   "cell_type": "code",
   "execution_count": 12,
   "metadata": {},
   "outputs": [
    {
     "name": "stderr",
     "output_type": "stream",
     "text": [
      "/home/hilla/code/10Academy-training/week11/contract-qa-high-precision-rag/.venv/lib/python3.10/site-packages/langchain_core/_api/deprecation.py:139: LangChainDeprecationWarning: The method `BaseRetriever.get_relevant_documents` was deprecated in langchain-core 0.1.46 and will be removed in 0.3.0. Use invoke instead.\n",
      "  warn_deprecated(\n",
      "2024-07-10 08:04:23 - httpx - INFO - HTTP Request: POST https://api.openai.com/v1/embeddings \"HTTP/1.1 200 OK\"\n",
      "2024-07-10 08:04:25 - httpx - INFO - HTTP Request: POST https://api.openai.com/v1/chat/completions \"HTTP/1.1 200 OK\"\n",
      "2024-07-10 08:04:27 - httpx - INFO - HTTP Request: POST https://api.openai.com/v1/embeddings \"HTTP/1.1 200 OK\"\n",
      "2024-07-10 08:04:30 - httpx - INFO - HTTP Request: POST https://api.openai.com/v1/chat/completions \"HTTP/1.1 200 OK\"\n",
      "2024-07-10 08:04:32 - httpx - INFO - HTTP Request: POST https://api.openai.com/v1/embeddings \"HTTP/1.1 200 OK\"\n",
      "2024-07-10 08:04:35 - httpx - INFO - HTTP Request: POST https://api.openai.com/v1/chat/completions \"HTTP/1.1 200 OK\"\n",
      "2024-07-10 08:04:37 - httpx - INFO - HTTP Request: POST https://api.openai.com/v1/embeddings \"HTTP/1.1 200 OK\"\n",
      "2024-07-10 08:04:39 - httpx - INFO - HTTP Request: POST https://api.openai.com/v1/chat/completions \"HTTP/1.1 200 OK\"\n",
      "2024-07-10 08:04:41 - httpx - INFO - HTTP Request: POST https://api.openai.com/v1/embeddings \"HTTP/1.1 200 OK\"\n",
      "2024-07-10 08:04:42 - httpx - INFO - HTTP Request: POST https://api.openai.com/v1/chat/completions \"HTTP/1.1 200 OK\"\n",
      "2024-07-10 08:04:45 - httpx - INFO - HTTP Request: POST https://api.openai.com/v1/embeddings \"HTTP/1.1 200 OK\"\n",
      "2024-07-10 08:04:46 - httpx - INFO - HTTP Request: POST https://api.openai.com/v1/chat/completions \"HTTP/1.1 200 OK\"\n",
      "2024-07-10 08:04:48 - httpx - INFO - HTTP Request: POST https://api.openai.com/v1/embeddings \"HTTP/1.1 200 OK\"\n",
      "2024-07-10 08:04:50 - httpx - INFO - HTTP Request: POST https://api.openai.com/v1/chat/completions \"HTTP/1.1 200 OK\"\n",
      "2024-07-10 08:04:53 - httpx - INFO - HTTP Request: POST https://api.openai.com/v1/embeddings \"HTTP/1.1 200 OK\"\n",
      "2024-07-10 08:04:54 - httpx - INFO - HTTP Request: POST https://api.openai.com/v1/chat/completions \"HTTP/1.1 200 OK\"\n",
      "2024-07-10 08:04:56 - httpx - INFO - HTTP Request: POST https://api.openai.com/v1/embeddings \"HTTP/1.1 200 OK\"\n",
      "2024-07-10 08:04:57 - httpx - INFO - HTTP Request: POST https://api.openai.com/v1/chat/completions \"HTTP/1.1 200 OK\"\n",
      "2024-07-10 08:05:00 - httpx - INFO - HTTP Request: POST https://api.openai.com/v1/embeddings \"HTTP/1.1 200 OK\"\n",
      "2024-07-10 08:05:02 - httpx - INFO - HTTP Request: POST https://api.openai.com/v1/chat/completions \"HTTP/1.1 200 OK\"\n"
     ]
    },
    {
     "data": {
      "application/vnd.jupyter.widget-view+json": {
       "model_id": "35e36829b3d948f2a0e5bcfd2f9e3710",
       "version_major": 2,
       "version_minor": 0
      },
      "text/plain": [
       "Evaluating:   0%|          | 0/40 [00:00<?, ?it/s]"
      ]
     },
     "metadata": {},
     "output_type": "display_data"
    },
    {
     "name": "stderr",
     "output_type": "stream",
     "text": [
      "2024-07-10 08:05:05 - httpx - INFO - HTTP Request: POST https://api.openai.com/v1/chat/completions \"HTTP/1.1 200 OK\"\n",
      "2024-07-10 08:05:05 - httpx - INFO - HTTP Request: POST https://api.openai.com/v1/chat/completions \"HTTP/1.1 200 OK\"\n",
      "2024-07-10 08:05:05 - httpx - INFO - HTTP Request: POST https://api.openai.com/v1/chat/completions \"HTTP/1.1 200 OK\"\n",
      "2024-07-10 08:05:05 - httpx - INFO - HTTP Request: POST https://api.openai.com/v1/chat/completions \"HTTP/1.1 200 OK\"\n",
      "2024-07-10 08:05:05 - httpx - INFO - HTTP Request: POST https://api.openai.com/v1/chat/completions \"HTTP/1.1 200 OK\"\n",
      "2024-07-10 08:05:05 - httpx - INFO - HTTP Request: POST https://api.openai.com/v1/chat/completions \"HTTP/1.1 200 OK\"\n",
      "2024-07-10 08:05:05 - httpx - INFO - HTTP Request: POST https://api.openai.com/v1/chat/completions \"HTTP/1.1 200 OK\"\n",
      "2024-07-10 08:05:05 - httpx - INFO - HTTP Request: POST https://api.openai.com/v1/chat/completions \"HTTP/1.1 200 OK\"\n",
      "2024-07-10 08:05:05 - httpx - INFO - HTTP Request: POST https://api.openai.com/v1/chat/completions \"HTTP/1.1 200 OK\"\n",
      "2024-07-10 08:05:05 - httpx - INFO - HTTP Request: POST https://api.openai.com/v1/chat/completions \"HTTP/1.1 200 OK\"\n",
      "2024-07-10 08:05:05 - httpx - INFO - HTTP Request: POST https://api.openai.com/v1/chat/completions \"HTTP/1.1 200 OK\"\n",
      "2024-07-10 08:05:05 - httpx - INFO - HTTP Request: POST https://api.openai.com/v1/chat/completions \"HTTP/1.1 200 OK\"\n",
      "2024-07-10 08:05:05 - httpx - INFO - HTTP Request: POST https://api.openai.com/v1/chat/completions \"HTTP/1.1 200 OK\"\n",
      "2024-07-10 08:05:06 - httpx - INFO - HTTP Request: POST https://api.openai.com/v1/chat/completions \"HTTP/1.1 200 OK\"\n",
      "2024-07-10 08:05:06 - httpx - INFO - HTTP Request: POST https://api.openai.com/v1/chat/completions \"HTTP/1.1 200 OK\"\n",
      "2024-07-10 08:05:06 - httpx - INFO - HTTP Request: POST https://api.openai.com/v1/chat/completions \"HTTP/1.1 200 OK\"\n",
      "2024-07-10 08:05:06 - httpx - INFO - HTTP Request: POST https://api.openai.com/v1/chat/completions \"HTTP/1.1 200 OK\"\n",
      "2024-07-10 08:05:07 - httpx - INFO - HTTP Request: POST https://api.openai.com/v1/chat/completions \"HTTP/1.1 200 OK\"\n",
      "2024-07-10 08:05:07 - httpx - INFO - HTTP Request: POST https://api.openai.com/v1/chat/completions \"HTTP/1.1 200 OK\"\n",
      "2024-07-10 08:05:07 - httpx - INFO - HTTP Request: POST https://api.openai.com/v1/chat/completions \"HTTP/1.1 200 OK\"\n",
      "2024-07-10 08:05:07 - httpx - INFO - HTTP Request: POST https://api.openai.com/v1/chat/completions \"HTTP/1.1 200 OK\"\n",
      "2024-07-10 08:05:07 - httpx - INFO - HTTP Request: POST https://api.openai.com/v1/chat/completions \"HTTP/1.1 200 OK\"\n",
      "2024-07-10 08:05:07 - httpx - INFO - HTTP Request: POST https://api.openai.com/v1/chat/completions \"HTTP/1.1 200 OK\"\n",
      "2024-07-10 08:05:07 - httpx - INFO - HTTP Request: POST https://api.openai.com/v1/chat/completions \"HTTP/1.1 200 OK\"\n",
      "2024-07-10 08:05:07 - httpx - INFO - HTTP Request: POST https://api.openai.com/v1/chat/completions \"HTTP/1.1 200 OK\"\n",
      "2024-07-10 08:05:07 - httpx - INFO - HTTP Request: POST https://api.openai.com/v1/chat/completions \"HTTP/1.1 200 OK\"\n",
      "2024-07-10 08:05:08 - httpx - INFO - HTTP Request: POST https://api.openai.com/v1/chat/completions \"HTTP/1.1 200 OK\"\n",
      "2024-07-10 08:05:08 - httpx - INFO - HTTP Request: POST https://api.openai.com/v1/chat/completions \"HTTP/1.1 200 OK\"\n",
      "2024-07-10 08:05:08 - httpx - INFO - HTTP Request: POST https://api.openai.com/v1/chat/completions \"HTTP/1.1 200 OK\"\n",
      "2024-07-10 08:05:08 - httpx - INFO - HTTP Request: POST https://api.openai.com/v1/chat/completions \"HTTP/1.1 200 OK\"\n",
      "2024-07-10 08:05:08 - httpx - INFO - HTTP Request: POST https://api.openai.com/v1/chat/completions \"HTTP/1.1 200 OK\"\n",
      "2024-07-10 08:05:08 - httpx - INFO - HTTP Request: POST https://api.openai.com/v1/chat/completions \"HTTP/1.1 200 OK\"\n",
      "2024-07-10 08:05:09 - httpx - INFO - HTTP Request: POST https://api.openai.com/v1/chat/completions \"HTTP/1.1 200 OK\"\n",
      "2024-07-10 08:05:09 - httpx - INFO - HTTP Request: POST https://api.openai.com/v1/chat/completions \"HTTP/1.1 200 OK\"\n",
      "2024-07-10 08:05:09 - httpx - INFO - HTTP Request: POST https://api.openai.com/v1/chat/completions \"HTTP/1.1 200 OK\"\n",
      "2024-07-10 08:05:09 - httpx - INFO - HTTP Request: POST https://api.openai.com/v1/chat/completions \"HTTP/1.1 200 OK\"\n",
      "2024-07-10 08:05:10 - httpx - INFO - HTTP Request: POST https://api.openai.com/v1/chat/completions \"HTTP/1.1 200 OK\"\n",
      "2024-07-10 08:05:10 - httpx - INFO - HTTP Request: POST https://api.openai.com/v1/chat/completions \"HTTP/1.1 200 OK\"\n",
      "2024-07-10 08:05:10 - httpx - INFO - HTTP Request: POST https://api.openai.com/v1/chat/completions \"HTTP/1.1 200 OK\"\n",
      "2024-07-10 08:05:10 - httpx - INFO - HTTP Request: POST https://api.openai.com/v1/chat/completions \"HTTP/1.1 200 OK\"\n",
      "2024-07-10 08:05:10 - httpx - INFO - HTTP Request: POST https://api.openai.com/v1/chat/completions \"HTTP/1.1 200 OK\"\n",
      "2024-07-10 08:05:10 - httpx - INFO - HTTP Request: POST https://api.openai.com/v1/chat/completions \"HTTP/1.1 200 OK\"\n",
      "2024-07-10 08:05:11 - httpx - INFO - HTTP Request: POST https://api.openai.com/v1/chat/completions \"HTTP/1.1 200 OK\"\n",
      "2024-07-10 08:05:11 - httpx - INFO - HTTP Request: POST https://api.openai.com/v1/chat/completions \"HTTP/1.1 200 OK\"\n",
      "2024-07-10 08:05:11 - httpx - INFO - HTTP Request: POST https://api.openai.com/v1/chat/completions \"HTTP/1.1 200 OK\"\n",
      "2024-07-10 08:05:11 - httpx - INFO - HTTP Request: POST https://api.openai.com/v1/chat/completions \"HTTP/1.1 200 OK\"\n",
      "2024-07-10 08:05:11 - httpx - INFO - HTTP Request: POST https://api.openai.com/v1/chat/completions \"HTTP/1.1 200 OK\"\n",
      "2024-07-10 08:05:12 - httpx - INFO - HTTP Request: POST https://api.openai.com/v1/chat/completions \"HTTP/1.1 200 OK\"\n",
      "2024-07-10 08:05:12 - httpx - INFO - HTTP Request: POST https://api.openai.com/v1/chat/completions \"HTTP/1.1 200 OK\"\n",
      "2024-07-10 08:05:12 - httpx - INFO - HTTP Request: POST https://api.openai.com/v1/chat/completions \"HTTP/1.1 200 OK\"\n",
      "2024-07-10 08:05:12 - httpx - INFO - HTTP Request: POST https://api.openai.com/v1/chat/completions \"HTTP/1.1 200 OK\"\n",
      "2024-07-10 08:05:13 - httpx - INFO - HTTP Request: POST https://api.openai.com/v1/chat/completions \"HTTP/1.1 200 OK\"\n",
      "2024-07-10 08:05:13 - httpx - INFO - HTTP Request: POST https://api.openai.com/v1/chat/completions \"HTTP/1.1 200 OK\"\n",
      "2024-07-10 08:05:13 - httpx - INFO - HTTP Request: POST https://api.openai.com/v1/chat/completions \"HTTP/1.1 200 OK\"\n",
      "2024-07-10 08:05:13 - httpx - INFO - HTTP Request: POST https://api.openai.com/v1/chat/completions \"HTTP/1.1 200 OK\"\n",
      "2024-07-10 08:05:13 - httpx - INFO - HTTP Request: POST https://api.openai.com/v1/chat/completions \"HTTP/1.1 200 OK\"\n",
      "2024-07-10 08:05:13 - httpx - INFO - HTTP Request: POST https://api.openai.com/v1/chat/completions \"HTTP/1.1 200 OK\"\n",
      "2024-07-10 08:05:13 - httpx - INFO - HTTP Request: POST https://api.openai.com/v1/chat/completions \"HTTP/1.1 200 OK\"\n",
      "2024-07-10 08:05:13 - httpx - INFO - HTTP Request: POST https://api.openai.com/v1/chat/completions \"HTTP/1.1 200 OK\"\n",
      "2024-07-10 08:05:14 - httpx - INFO - HTTP Request: POST https://api.openai.com/v1/chat/completions \"HTTP/1.1 200 OK\"\n",
      "2024-07-10 08:05:14 - httpx - INFO - HTTP Request: POST https://api.openai.com/v1/chat/completions \"HTTP/1.1 200 OK\"\n",
      "2024-07-10 08:05:14 - httpx - INFO - HTTP Request: POST https://api.openai.com/v1/embeddings \"HTTP/1.1 200 OK\"\n",
      "2024-07-10 08:05:14 - httpx - INFO - HTTP Request: POST https://api.openai.com/v1/chat/completions \"HTTP/1.1 200 OK\"\n",
      "2024-07-10 08:05:14 - httpx - INFO - HTTP Request: POST https://api.openai.com/v1/chat/completions \"HTTP/1.1 200 OK\"\n",
      "2024-07-10 08:05:14 - httpx - INFO - HTTP Request: POST https://api.openai.com/v1/embeddings \"HTTP/1.1 200 OK\"\n",
      "2024-07-10 08:05:14 - httpx - INFO - HTTP Request: POST https://api.openai.com/v1/chat/completions \"HTTP/1.1 200 OK\"\n",
      "2024-07-10 08:05:14 - httpx - INFO - HTTP Request: POST https://api.openai.com/v1/embeddings \"HTTP/1.1 200 OK\"\n",
      "2024-07-10 08:05:14 - httpx - INFO - HTTP Request: POST https://api.openai.com/v1/chat/completions \"HTTP/1.1 200 OK\"\n",
      "2024-07-10 08:05:14 - httpx - INFO - HTTP Request: POST https://api.openai.com/v1/embeddings \"HTTP/1.1 200 OK\"\n",
      "2024-07-10 08:05:14 - httpx - INFO - HTTP Request: POST https://api.openai.com/v1/chat/completions \"HTTP/1.1 200 OK\"\n",
      "2024-07-10 08:05:14 - httpx - INFO - HTTP Request: POST https://api.openai.com/v1/embeddings \"HTTP/1.1 200 OK\"\n",
      "2024-07-10 08:05:14 - httpx - INFO - HTTP Request: POST https://api.openai.com/v1/chat/completions \"HTTP/1.1 200 OK\"\n",
      "2024-07-10 08:05:15 - httpx - INFO - HTTP Request: POST https://api.openai.com/v1/chat/completions \"HTTP/1.1 200 OK\"\n",
      "2024-07-10 08:05:15 - httpx - INFO - HTTP Request: POST https://api.openai.com/v1/embeddings \"HTTP/1.1 200 OK\"\n",
      "2024-07-10 08:05:15 - httpx - INFO - HTTP Request: POST https://api.openai.com/v1/embeddings \"HTTP/1.1 200 OK\"\n",
      "2024-07-10 08:05:15 - httpx - INFO - HTTP Request: POST https://api.openai.com/v1/chat/completions \"HTTP/1.1 200 OK\"\n",
      "2024-07-10 08:05:15 - httpx - INFO - HTTP Request: POST https://api.openai.com/v1/chat/completions \"HTTP/1.1 200 OK\"\n",
      "2024-07-10 08:05:15 - httpx - INFO - HTTP Request: POST https://api.openai.com/v1/embeddings \"HTTP/1.1 200 OK\"\n",
      "2024-07-10 08:05:15 - httpx - INFO - HTTP Request: POST https://api.openai.com/v1/chat/completions \"HTTP/1.1 200 OK\"\n",
      "2024-07-10 08:05:15 - httpx - INFO - HTTP Request: POST https://api.openai.com/v1/chat/completions \"HTTP/1.1 200 OK\"\n",
      "2024-07-10 08:05:16 - httpx - INFO - HTTP Request: POST https://api.openai.com/v1/chat/completions \"HTTP/1.1 200 OK\"\n",
      "2024-07-10 08:05:16 - httpx - INFO - HTTP Request: POST https://api.openai.com/v1/embeddings \"HTTP/1.1 200 OK\"\n",
      "2024-07-10 08:05:16 - httpx - INFO - HTTP Request: POST https://api.openai.com/v1/chat/completions \"HTTP/1.1 200 OK\"\n",
      "2024-07-10 08:05:16 - httpx - INFO - HTTP Request: POST https://api.openai.com/v1/chat/completions \"HTTP/1.1 200 OK\"\n",
      "2024-07-10 08:05:16 - httpx - INFO - HTTP Request: POST https://api.openai.com/v1/chat/completions \"HTTP/1.1 200 OK\"\n",
      "2024-07-10 08:05:16 - httpx - INFO - HTTP Request: POST https://api.openai.com/v1/embeddings \"HTTP/1.1 200 OK\"\n",
      "2024-07-10 08:05:16 - httpx - INFO - HTTP Request: POST https://api.openai.com/v1/chat/completions \"HTTP/1.1 200 OK\"\n",
      "2024-07-10 08:05:16 - httpx - INFO - HTTP Request: POST https://api.openai.com/v1/chat/completions \"HTTP/1.1 200 OK\"\n",
      "2024-07-10 08:05:17 - httpx - INFO - HTTP Request: POST https://api.openai.com/v1/chat/completions \"HTTP/1.1 200 OK\"\n",
      "2024-07-10 08:05:17 - httpx - INFO - HTTP Request: POST https://api.openai.com/v1/chat/completions \"HTTP/1.1 200 OK\"\n",
      "2024-07-10 08:05:17 - httpx - INFO - HTTP Request: POST https://api.openai.com/v1/chat/completions \"HTTP/1.1 200 OK\"\n",
      "2024-07-10 08:05:17 - httpx - INFO - HTTP Request: POST https://api.openai.com/v1/chat/completions \"HTTP/1.1 200 OK\"\n",
      "2024-07-10 08:05:17 - httpx - INFO - HTTP Request: POST https://api.openai.com/v1/chat/completions \"HTTP/1.1 200 OK\"\n",
      "2024-07-10 08:05:18 - httpx - INFO - HTTP Request: POST https://api.openai.com/v1/chat/completions \"HTTP/1.1 200 OK\"\n",
      "2024-07-10 08:05:18 - httpx - INFO - HTTP Request: POST https://api.openai.com/v1/chat/completions \"HTTP/1.1 200 OK\"\n",
      "2024-07-10 08:05:18 - httpx - INFO - HTTP Request: POST https://api.openai.com/v1/chat/completions \"HTTP/1.1 200 OK\"\n",
      "2024-07-10 08:05:18 - httpx - INFO - HTTP Request: POST https://api.openai.com/v1/chat/completions \"HTTP/1.1 200 OK\"\n",
      "2024-07-10 08:05:18 - httpx - INFO - HTTP Request: POST https://api.openai.com/v1/chat/completions \"HTTP/1.1 200 OK\"\n",
      "2024-07-10 08:05:18 - httpx - INFO - HTTP Request: POST https://api.openai.com/v1/chat/completions \"HTTP/1.1 200 OK\"\n",
      "2024-07-10 08:05:18 - httpx - INFO - HTTP Request: POST https://api.openai.com/v1/chat/completions \"HTTP/1.1 200 OK\"\n",
      "2024-07-10 08:05:18 - httpx - INFO - HTTP Request: POST https://api.openai.com/v1/chat/completions \"HTTP/1.1 200 OK\"\n",
      "2024-07-10 08:05:18 - httpx - INFO - HTTP Request: POST https://api.openai.com/v1/chat/completions \"HTTP/1.1 200 OK\"\n",
      "2024-07-10 08:05:19 - httpx - INFO - HTTP Request: POST https://api.openai.com/v1/chat/completions \"HTTP/1.1 200 OK\"\n",
      "2024-07-10 08:05:19 - httpx - INFO - HTTP Request: POST https://api.openai.com/v1/chat/completions \"HTTP/1.1 200 OK\"\n",
      "2024-07-10 08:05:19 - httpx - INFO - HTTP Request: POST https://api.openai.com/v1/chat/completions \"HTTP/1.1 200 OK\"\n",
      "2024-07-10 08:05:19 - httpx - INFO - HTTP Request: POST https://api.openai.com/v1/chat/completions \"HTTP/1.1 200 OK\"\n",
      "2024-07-10 08:05:19 - httpx - INFO - HTTP Request: POST https://api.openai.com/v1/chat/completions \"HTTP/1.1 200 OK\"\n",
      "2024-07-10 08:05:19 - httpx - INFO - HTTP Request: POST https://api.openai.com/v1/chat/completions \"HTTP/1.1 200 OK\"\n",
      "2024-07-10 08:05:20 - httpx - INFO - HTTP Request: POST https://api.openai.com/v1/embeddings \"HTTP/1.1 200 OK\"\n",
      "2024-07-10 08:05:20 - httpx - INFO - HTTP Request: POST https://api.openai.com/v1/chat/completions \"HTTP/1.1 200 OK\"\n",
      "2024-07-10 08:05:20 - httpx - INFO - HTTP Request: POST https://api.openai.com/v1/chat/completions \"HTTP/1.1 200 OK\"\n",
      "2024-07-10 08:05:20 - httpx - INFO - HTTP Request: POST https://api.openai.com/v1/embeddings \"HTTP/1.1 200 OK\"\n",
      "2024-07-10 08:05:21 - httpx - INFO - HTTP Request: POST https://api.openai.com/v1/chat/completions \"HTTP/1.1 200 OK\"\n",
      "2024-07-10 08:05:21 - httpx - INFO - HTTP Request: POST https://api.openai.com/v1/chat/completions \"HTTP/1.1 200 OK\"\n",
      "2024-07-10 08:05:21 - httpx - INFO - HTTP Request: POST https://api.openai.com/v1/chat/completions \"HTTP/1.1 200 OK\"\n",
      "2024-07-10 08:05:22 - httpx - INFO - HTTP Request: POST https://api.openai.com/v1/chat/completions \"HTTP/1.1 200 OK\"\n",
      "2024-07-10 08:05:22 - httpx - INFO - HTTP Request: POST https://api.openai.com/v1/embeddings \"HTTP/1.1 200 OK\"\n",
      "2024-07-10 08:05:22 - httpx - INFO - HTTP Request: POST https://api.openai.com/v1/chat/completions \"HTTP/1.1 200 OK\"\n",
      "2024-07-10 08:05:22 - httpx - INFO - HTTP Request: POST https://api.openai.com/v1/chat/completions \"HTTP/1.1 200 OK\"\n",
      "2024-07-10 08:05:23 - httpx - INFO - HTTP Request: POST https://api.openai.com/v1/chat/completions \"HTTP/1.1 200 OK\"\n",
      "2024-07-10 08:05:23 - httpx - INFO - HTTP Request: POST https://api.openai.com/v1/embeddings \"HTTP/1.1 200 OK\"\n",
      "2024-07-10 08:05:23 - httpx - INFO - HTTP Request: POST https://api.openai.com/v1/chat/completions \"HTTP/1.1 200 OK\"\n",
      "2024-07-10 08:05:24 - httpx - INFO - HTTP Request: POST https://api.openai.com/v1/embeddings \"HTTP/1.1 200 OK\"\n",
      "2024-07-10 08:05:24 - httpx - INFO - HTTP Request: POST https://api.openai.com/v1/embeddings \"HTTP/1.1 200 OK\"\n",
      "2024-07-10 08:05:26 - httpx - INFO - HTTP Request: POST https://api.openai.com/v1/chat/completions \"HTTP/1.1 200 OK\"\n",
      "2024-07-10 08:05:27 - httpx - INFO - HTTP Request: POST https://api.openai.com/v1/embeddings \"HTTP/1.1 200 OK\"\n",
      "2024-07-10 08:05:27 - httpx - INFO - HTTP Request: POST https://api.openai.com/v1/embeddings \"HTTP/1.1 200 OK\"\n",
      "2024-07-10 08:05:29 - httpx - INFO - HTTP Request: POST https://api.openai.com/v1/chat/completions \"HTTP/1.1 200 OK\"\n",
      "2024-07-10 08:05:30 - httpx - INFO - HTTP Request: POST https://api.openai.com/v1/embeddings \"HTTP/1.1 200 OK\"\n",
      "2024-07-10 08:05:30 - httpx - INFO - HTTP Request: POST https://api.openai.com/v1/embeddings \"HTTP/1.1 200 OK\"\n"
     ]
    },
    {
     "data": {
      "text/html": [
       "<div>\n",
       "<style scoped>\n",
       "    .dataframe tbody tr th:only-of-type {\n",
       "        vertical-align: middle;\n",
       "    }\n",
       "\n",
       "    .dataframe tbody tr th {\n",
       "        vertical-align: top;\n",
       "    }\n",
       "\n",
       "    .dataframe thead th {\n",
       "        text-align: right;\n",
       "    }\n",
       "</style>\n",
       "<table border=\"1\" class=\"dataframe\">\n",
       "  <thead>\n",
       "    <tr style=\"text-align: right;\">\n",
       "      <th></th>\n",
       "      <th>question</th>\n",
       "      <th>answer</th>\n",
       "      <th>contexts</th>\n",
       "      <th>ground_truth</th>\n",
       "      <th>answer_correctness</th>\n",
       "      <th>faithfulness</th>\n",
       "      <th>context_precision</th>\n",
       "      <th>context_recall</th>\n",
       "    </tr>\n",
       "  </thead>\n",
       "  <tbody>\n",
       "    <tr>\n",
       "      <th>0</th>\n",
       "      <td>Who are the parties to the Agreement and what ...</td>\n",
       "      <td>The parties to the Agreement are Cloud Investm...</td>\n",
       "      <td>[IN WITNESS WHEREOF, the undersigned has execu...</td>\n",
       "      <td>Cloud Investments Ltd. (“Company”) and Jack Ro...</td>\n",
       "      <td>0.732784</td>\n",
       "      <td>0.25</td>\n",
       "      <td>1.000000</td>\n",
       "      <td>1.0</td>\n",
       "    </tr>\n",
       "    <tr>\n",
       "      <th>1</th>\n",
       "      <td>What is the termination notice?</td>\n",
       "      <td>Either party may terminate the Agreement at an...</td>\n",
       "      <td>[NOW THEREFORE THE PARTIES AGREE AS FOLLOWS:\\n...</td>\n",
       "      <td>According to section 4:14 days for convenience...</td>\n",
       "      <td>0.560186</td>\n",
       "      <td>1.00</td>\n",
       "      <td>0.804167</td>\n",
       "      <td>0.5</td>\n",
       "    </tr>\n",
       "    <tr>\n",
       "      <th>2</th>\n",
       "      <td>What are the payments to the Advisor under the...</td>\n",
       "      <td>The Advisor shall receive hourly fees at a rat...</td>\n",
       "      <td>[NOW THEREFORE THE PARTIES AGREE AS FOLLOWS:\\n...</td>\n",
       "      <td>According to section 6: 1. Fees of $9 per hour...</td>\n",
       "      <td>0.224562</td>\n",
       "      <td>1.00</td>\n",
       "      <td>0.950000</td>\n",
       "      <td>1.0</td>\n",
       "    </tr>\n",
       "    <tr>\n",
       "      <th>3</th>\n",
       "      <td>Can the Agreement or any of its obligations be...</td>\n",
       "      <td>The Agreement may not be assigned, sold, deleg...</td>\n",
       "      <td>[NOW THEREFORE THE PARTIES AGREE AS FOLLOWS:\\n...</td>\n",
       "      <td>1. Under section 1.1 the Advisor can’t assign ...</td>\n",
       "      <td>0.499994</td>\n",
       "      <td>0.50</td>\n",
       "      <td>1.000000</td>\n",
       "      <td>1.0</td>\n",
       "    </tr>\n",
       "    <tr>\n",
       "      <th>4</th>\n",
       "      <td>Who owns the IP?</td>\n",
       "      <td>The Company fully and exclusively owns any Wor...</td>\n",
       "      <td>[Cloud Investments Ltd. Advisor \\n\\nBy: ______...</td>\n",
       "      <td>According to section 4 of the Undertaking (App...</td>\n",
       "      <td>0.830365</td>\n",
       "      <td>1.00</td>\n",
       "      <td>1.000000</td>\n",
       "      <td>1.0</td>\n",
       "    </tr>\n",
       "  </tbody>\n",
       "</table>\n",
       "</div>"
      ],
      "text/plain": [
       "                                            question  \\\n",
       "0  Who are the parties to the Agreement and what ...   \n",
       "1                    What is the termination notice?   \n",
       "2  What are the payments to the Advisor under the...   \n",
       "3  Can the Agreement or any of its obligations be...   \n",
       "4                                  Who owns the IP?    \n",
       "\n",
       "                                              answer  \\\n",
       "0  The parties to the Agreement are Cloud Investm...   \n",
       "1  Either party may terminate the Agreement at an...   \n",
       "2  The Advisor shall receive hourly fees at a rat...   \n",
       "3  The Agreement may not be assigned, sold, deleg...   \n",
       "4  The Company fully and exclusively owns any Wor...   \n",
       "\n",
       "                                            contexts  \\\n",
       "0  [IN WITNESS WHEREOF, the undersigned has execu...   \n",
       "1  [NOW THEREFORE THE PARTIES AGREE AS FOLLOWS:\\n...   \n",
       "2  [NOW THEREFORE THE PARTIES AGREE AS FOLLOWS:\\n...   \n",
       "3  [NOW THEREFORE THE PARTIES AGREE AS FOLLOWS:\\n...   \n",
       "4  [Cloud Investments Ltd. Advisor \\n\\nBy: ______...   \n",
       "\n",
       "                                        ground_truth  answer_correctness  \\\n",
       "0  Cloud Investments Ltd. (“Company”) and Jack Ro...            0.732784   \n",
       "1  According to section 4:14 days for convenience...            0.560186   \n",
       "2  According to section 6: 1. Fees of $9 per hour...            0.224562   \n",
       "3  1. Under section 1.1 the Advisor can’t assign ...            0.499994   \n",
       "4  According to section 4 of the Undertaking (App...            0.830365   \n",
       "\n",
       "   faithfulness  context_precision  context_recall  \n",
       "0          0.25           1.000000             1.0  \n",
       "1          1.00           0.804167             0.5  \n",
       "2          1.00           0.950000             1.0  \n",
       "3          0.50           1.000000             1.0  \n",
       "4          1.00           1.000000             1.0  "
      ]
     },
     "execution_count": 12,
     "metadata": {},
     "output_type": "execute_result"
    }
   ],
   "source": [
    "# from src.ragas_pipeline import run_evaluation\n",
    "\n",
    "results = run_evaluation(retriever=retriever,\n",
    "               file_path=\"data/evaluation_sets/Robinson_Q&A.docx\",\n",
    "               llm=llm\n",
    "               )\n",
    "\n",
    "results.head()"
   ]
  },
  {
   "cell_type": "code",
   "execution_count": 10,
   "metadata": {},
   "outputs": [
    {
     "name": "stdout",
     "output_type": "stream",
     "text": [
      "                                            question  \\\n",
      "0  Who are the parties to the Agreement and what ...   \n",
      "1                    What is the termination notice?   \n",
      "2  What are the payments to the Advisor under the...   \n",
      "3  Can the Agreement or any of its obligations be...   \n",
      "4                                  Who owns the IP?    \n",
      "5  Is there a non-compete obligation to the Advisor?   \n",
      "6              Can the Advisor charge for meal time?   \n",
      "7             In which street does the Advisor live?   \n",
      "8       Is the Advisor entitled to social benefits?    \n",
      "9  What happens if the Advisor claims compensatio...   \n",
      "\n",
      "                                              answer  \\\n",
      "0  The parties to the Agreement are Cloud Investm...   \n",
      "1  Either party may terminate the Agreement upon ...   \n",
      "2  The payments to the Advisor under the Agreemen...   \n",
      "3  The Agreement may not be assigned, sold, deleg...   \n",
      "4  The Company fully and exclusively owns the IP,...   \n",
      "5  Yes, during the term of engagement with the Co...   \n",
      "6  No, the Advisor cannot charge for meal time, a...   \n",
      "7  The provided context does not contain any info...   \n",
      "8  Advisor is not entitled to social benefits fro...   \n",
      "9  If the Advisor claims compensation based on an...   \n",
      "\n",
      "                                            contexts  \\\n",
      "0  [Entire Agreement; No Waiver or Assignment: Th...   \n",
      "1  [Term: The term of this Agreement shall commen...   \n",
      "2  [As full and sole consideration for the Servic...   \n",
      "3  [Entire Agreement; No Waiver or Assignment: Th...   \n",
      "4  [IP: Any Work Product, upon creation, shall be...   \n",
      "5  [Non-Compete: During the term of engagement wi...   \n",
      "6  [As full and sole consideration for the Servic...   \n",
      "7  [Advisor (both without breach of any confident...   \n",
      "8  [Advisor statutory rights and benefits as empl...   \n",
      "9  [Advisor statutory rights and benefits as empl...   \n",
      "\n",
      "                                        ground_truth  answer_correctness  \\\n",
      "0  Cloud Investments Ltd. (“Company”) and Jack Ro...            0.735378   \n",
      "1  According to section 4:14 days for convenience...            0.739549   \n",
      "2  According to section 6: 1. Fees of $9 per hour...            0.225061   \n",
      "3  1. Under section 1.1 the Advisor can’t assign ...            0.377267   \n",
      "4  According to section 4 of the Undertaking (App...            0.516083   \n",
      "5  Yes. During the term of engagement with the Co...            0.594266   \n",
      "6  No. See Section 6.1, Billable Hour doesn’t inc...            0.527480   \n",
      "7                    1 Rabin st, Tel Aviv, Israel \\n            0.184034   \n",
      "8  No. According to section 8 of the Agreement, t...            0.598423   \n",
      "9  If the Advisor is determined to be an employee...            0.586095   \n",
      "\n",
      "   faithfulness  context_precision  context_recall  \n",
      "0      0.750000               1.00             1.0  \n",
      "1      1.000000               0.75             0.5  \n",
      "2      1.000000               0.70             1.0  \n",
      "3      0.500000               1.00             1.0  \n",
      "4      1.000000               1.00             1.0  \n",
      "5      1.000000               1.00             1.0  \n",
      "6      1.000000               1.00             1.0  \n",
      "7      0.000000               0.00             0.0  \n",
      "8      1.000000               1.00             1.0  \n",
      "9      0.833333               1.00             1.0  \n"
     ]
    }
   ],
   "source": [
    "print(results)"
   ]
  },
  {
   "cell_type": "code",
   "execution_count": null,
   "metadata": {},
   "outputs": [],
   "source": []
  }
 ],
 "metadata": {
  "kernelspec": {
   "display_name": ".venv",
   "language": "python",
   "name": "python3"
  },
  "language_info": {
   "codemirror_mode": {
    "name": "ipython",
    "version": 3
   },
   "file_extension": ".py",
   "mimetype": "text/x-python",
   "name": "python",
   "nbconvert_exporter": "python",
   "pygments_lexer": "ipython3",
   "version": "3.10.12"
  }
 },
 "nbformat": 4,
 "nbformat_minor": 2
}
