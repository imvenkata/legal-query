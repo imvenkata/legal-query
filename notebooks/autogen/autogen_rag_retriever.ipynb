{
 "cells": [
  {
   "cell_type": "code",
   "execution_count": 8,
   "metadata": {},
   "outputs": [
    {
     "name": "stdout",
     "output_type": "stream",
     "text": [
      "models to use:  ['gpt-3.5-turbo-0125']\n"
     ]
    }
   ],
   "source": [
    "import json\n",
    "import os\n",
    "os.chdir(\"../../\")\n",
    "\n",
    "import chromadb\n",
    "\n",
    "import autogen\n",
    "from autogen.agentchat.contrib.retrieve_assistant_agent import RetrieveAssistantAgent\n",
    "from autogen.agentchat.contrib.retrieve_user_proxy_agent import RetrieveUserProxyAgent\n",
    "\n",
    "# Accepted file formats for that can be stored in\n",
    "# a vector database instance\n",
    "from autogen.retrieve_utils import TEXT_FORMATS\n",
    "\n",
    "config_list = [\n",
    "    {\"model\": \"gpt-3.5-turbo-0125\", \"api_type\": \"openai\"},\n",
    "]\n",
    "\n",
    "assert len(config_list) > 0\n",
    "print(\"models to use: \", [config_list[i][\"model\"] for i in range(len(config_list))])"
   ]
  },
  {
   "cell_type": "code",
   "execution_count": 2,
   "metadata": {},
   "outputs": [
    {
     "name": "stdout",
     "output_type": "stream",
     "text": [
      "Accepted file formats for `docs_path`:\n",
      "['yml', 'docx', 'pptx', 'xml', 'epub', 'org', 'html', 'json', 'txt', 'doc', 'log', 'odt', 'rst', 'tsv', 'rtf', 'xlsx', 'md', 'msg', 'ppt', 'csv', 'pdf', 'yaml', 'jsonl', 'htm']\n"
     ]
    }
   ],
   "source": [
    "print(\"Accepted file formats for `docs_path`:\")\n",
    "print(TEXT_FORMATS)"
   ]
  },
  {
   "cell_type": "code",
   "execution_count": 3,
   "metadata": {},
   "outputs": [],
   "source": [
    "config_list[0][\"model\"] = \"gpt-4o\"  # change model to gpt-4o"
   ]
  },
  {
   "cell_type": "code",
   "execution_count": 4,
   "metadata": {},
   "outputs": [],
   "source": [
    "# 1. create an RetrieveAssistantAgent instance named \"assistant\"\n",
    "assistant = RetrieveAssistantAgent(\n",
    "    name=\"assistant\",\n",
    "    system_message=\"You are a helpful assistant.\",\n",
    "    llm_config={\n",
    "        \"timeout\": 600,\n",
    "        \"cache_seed\": 42,\n",
    "        \"config_list\": config_list,\n",
    "    },\n",
    ")\n"
   ]
  },
  {
   "cell_type": "code",
   "execution_count": 11,
   "metadata": {},
   "outputs": [],
   "source": [
    "# 2. create the RetrieveUserProxyAgent instance named \"ragproxyagent\"\n",
    "# `docs_path` is the path to the docs directory. It can also be the path to a single file, or the url to a single file. By default,\n",
    "# `task` indicates the kind of task we're working on. In this example, it's a `code` task.\n",
    "# `chunk_token_size` is the chunk token size for the retrieve chat. By default, it is set to `max_tokens * 0.6`, here we set it to 2000.\n",
    "# `custom_text_types` is a list of file types to be processed. Default is `autogen.retrieve_utils.TEXT_FORMATS`.\n",
    "# This only applies to files under the directories in `docs_path`. Explicitly included files and urls will be chunked regardless of their types.\n",
    "# In this example, we set it to [\"non-existent-type\"] to only process markdown files. Since no \"non-existent-type\" files are included in the `websit/docs`,\n",
    "# no files there will be processed. However, the explicitly included urls will still be processed.\n",
    "\n",
    "# Create a new collection for Legal Contracts dataset\n",
    "# `task` indicates the kind of task we're working on. In this example, it's a `qa` task.\n",
    "ragproxyagent = RetrieveUserProxyAgent(\n",
    "    name=\"ragproxyagent\",\n",
    "    human_input_mode=\"NEVER\",\n",
    "    max_consecutive_auto_reply=10,\n",
    "    retrieve_config={\n",
    "        \"task\": \"qa\",\n",
    "        \"docs_path\": \"data/content/Robinson Advisory.docx\",\n",
    "        \"chunk_token_size\": 1000,\n",
    "        \"model\": config_list[0][\"model\"],\n",
    "        \"client\": chromadb.PersistentClient(path=\"/tmp/chromadb\"),\n",
    "        \"collection_name\": \"legal-contracts\",\n",
    "        \"chunk_mode\": \"one_line\",\n",
    "        \"embedding_model\": \"all-mpnet-base-v2\",\n",
    "    },\n",
    ")"
   ]
  },
  {
   "cell_type": "code",
   "execution_count": 12,
   "metadata": {},
   "outputs": [
    {
     "name": "stdout",
     "output_type": "stream",
     "text": [
      "Trying to create collection.\n"
     ]
    },
    {
     "name": "stderr",
     "output_type": "stream",
     "text": [
      "2024-07-08 10:38:19,391 - autogen.agentchat.contrib.retrieve_user_proxy_agent - INFO - Found 30 chunks.\u001b[0m\n",
      "2024-07-08 10:38:19,396 - autogen.agentchat.contrib.vectordb.chromadb - INFO - No content embedding is provided. Will use the VectorDB's embedding function to generate the content embedding.\u001b[0m\n"
     ]
    },
    {
     "name": "stdout",
     "output_type": "stream",
     "text": [
      "VectorDB returns doc_ids:  [['4b9d97a9', '44b89898', '1f113781', 'ac2b31c9', '7c943210', 'fea83f88', 'e4bfe81f', '1d97d312', '8fa7aef2', 'ca48849c']]\n",
      "\u001b[32mAdding content of doc 4b9d97a9 to context.\u001b[0m\n",
      "\u001b[32mAdding content of doc 44b89898 to context.\u001b[0m\n",
      "\u001b[32mAdding content of doc 1f113781 to context.\u001b[0m\n",
      "\u001b[32mAdding content of doc ac2b31c9 to context.\u001b[0m\n",
      "\u001b[32mAdding content of doc 7c943210 to context.\u001b[0m\n",
      "\u001b[32mAdding content of doc fea83f88 to context.\u001b[0m\n",
      "\u001b[32mAdding content of doc e4bfe81f to context.\u001b[0m\n",
      "\u001b[32mAdding content of doc 1d97d312 to context.\u001b[0m\n",
      "\u001b[32mAdding content of doc 8fa7aef2 to context.\u001b[0m\n",
      "\u001b[32mAdding content of doc ca48849c to context.\u001b[0m\n",
      "\u001b[33mragproxyagent\u001b[0m (to assistant):\n",
      "\n",
      "You're a retrieve augmented chatbot. You answer user's questions based on your own knowledge and the\n",
      "context provided by the user.\n",
      "If you can't answer the question with or without the current context, you should reply exactly `UPDATE CONTEXT`.\n",
      "You must give as short an answer as possible.\n",
      "\n",
      "User's question is: Who are the parties to the Agreement and what are their defined names?\n",
      "\n",
      "Context is: IN WITNESS WHEREOF the parties have executed this Agreement as of the date first above written.\n",
      "Entire Agreement; No Waiver or Assignment: This Agreement together with the Exhibits, which are attached hereto and incorporated herein, set forth the entire Agreement between the parties and shall supersede all previous communications and agreements between the parties, either oral or written. This Agreement may be modified only by a written amendment executed by both parties. This Agreement may not be assigned, sold, delegated or transferred in any manner by Advisor for any reason whatsoever. The Company may assign the Agreement to a successor of all or substantially all of its assets or business, provided the assignee has assumed the Company’s obligations under this Agreement.\n",
      "NOW THEREFORE THE PARTIES AGREE AS FOLLOWS:\n",
      "ADVISORY SERVICES AGREEMENT\n",
      "Term: The term of this Agreement shall commence on the Effective Date and shall continue until terminated in accordance with the provisions herein (the \"Term\").\n",
      "Advisor further agrees and undertakes to (i) comply with all the Company's policies, procedures and objectives, as in effect from time to time; (ii) adhere to any applicable law or provision, pertaining to his services; (iii) not take any action with the intention that the same will cause material damage to the good name of the Company; (iv) keep the contents of this Agreement confidential and not to disclose the existence or contents of this Agreement to any third party without the prior written consent of the Company.\n",
      "Relationship of the Parties; Indemnification: The sole relationship between the Company and the Advisor shall be that of independent contractors. Advisor shall not be deemed to be, nor treated by the Company as, an employee of the Company. Advisor shall not receive nor be entitled to overtime pay, insurance, paid vacation, severance payments or similar fringe or employment benefits from the Company. Without derogating from the above, if it is adjudicated or otherwise determined by any governmental authority that the Advisor and/or anyone on Advisor's behalf, is, regardless of the terms of this Agreement, an employee of the Company, then payments to Advisor hereunder shall be reduced effective retroactively as of the beginning of the Term so that 60% of such payments shall constitute salary payments, and 40% of such payments shall constitute payment by the Company for all other\n",
      "Confidentiality, Non-Competition and IP Ownership Undertaking: In connection with the performance of Advisor’s obligations under this Agreement, the Advisor shall execute a Confidentiality, Non-Competition and IP Ownership Undertaking in the form attached hereto as Exhibit A.\n",
      "Governing Law and Jurisdiction:  This Agreement shall be governed by the laws of the State of Israel, without giving effect to the rules respecting conflicts of laws. The parties consent to the exclusive jurisdiction and venue of Tel Aviv courts for any lawsuit filed arising from or relating to this Agreement.\n",
      "Whereas, \tAdvisor has agreed to provide the Company with such services, subject to the terms set forth in this Agreement.\n",
      "\n",
      "\n",
      "\n",
      "--------------------------------------------------------------------------------\n",
      "\u001b[33massistant\u001b[0m (to ragproxyagent):\n",
      "\n",
      "UPDATE CONTEXT\n",
      "\n",
      "--------------------------------------------------------------------------------\n",
      "\u001b[32mUpdating context and resetting conversation.\u001b[0m\n",
      "VectorDB returns doc_ids:  [['4b9d97a9', '44b89898', '1f113781', 'ac2b31c9', '7c943210', 'fea83f88', 'e4bfe81f', '1d97d312', '8fa7aef2', 'ca48849c', '88dcaf00', '28c27afc', '28948a76', '7fe1dba9', '133737d5', '2b893c87', 'b31c88b4', 'f8717b4f', 'd3de57f2', '016be712', '6da088d1', '670fb1e5', 'f7b872a0', '63d561b5', '830c8e63', 'efa526a8', '2012ec4a', '0a3f8251', 'faaefdd4', 'b644ee8e']]\n",
      "\u001b[32mAdding content of doc 88dcaf00 to context.\u001b[0m\n",
      "\u001b[32mAdding content of doc 28c27afc to context.\u001b[0m\n",
      "\u001b[32mAdding content of doc 28948a76 to context.\u001b[0m\n",
      "\u001b[32mAdding content of doc 7fe1dba9 to context.\u001b[0m\n",
      "\u001b[32mAdding content of doc 133737d5 to context.\u001b[0m\n",
      "\u001b[32mAdding content of doc 2b893c87 to context.\u001b[0m\n",
      "\u001b[32mAdding content of doc b31c88b4 to context.\u001b[0m\n",
      "\u001b[32mAdding content of doc f8717b4f to context.\u001b[0m\n",
      "\u001b[32mAdding content of doc d3de57f2 to context.\u001b[0m\n",
      "\u001b[32mAdding content of doc 016be712 to context.\u001b[0m\n",
      "\u001b[33mragproxyagent\u001b[0m (to assistant):\n",
      "\n",
      "You're a retrieve augmented chatbot. You answer user's questions based on your own knowledge and the\n",
      "context provided by the user.\n",
      "If you can't answer the question with or without the current context, you should reply exactly `UPDATE CONTEXT`.\n",
      "You must give as short an answer as possible.\n",
      "\n",
      "User's question is: Who are the parties to the Agreement and what are their defined names?\n",
      "\n",
      "Context is: Name:\tSilvan Joseph\t\t\t\tName:\tJack Robinson\t\t\n",
      "Title: CEO\t\t\t\t\t\n",
      "\n",
      "Confidentiality, None Compete and IP Ownership Undertaking\n",
      "Appendix A to Advisory Service Agreement as of June 15th, 2023\n",
      "THIS CONFIDENTIALITY UNDERTAKING (“Undertaking”) is entered into as of June 15th, 2023 (“Effective Date”), by Mr. Jack Robinson, Passport Number 780055578, residing at 1 Rabin st, Tel Aviv, Israel, Email: jackrobinson@gmail.com, (“Advisor”), towards Cloud Investments Ltd (“Company”), as follows:\n",
      "Definitions: (a) Company’s Business: development of an AI-based contract assistant. (b) Services: Software development services and/or any other services provided by the Advisor to the Company. (c) Work Product: Any product of the Services, tangible and/or intangible, including any inventions, discoveries and/or other intellectual property. (d) Confidential Information: any information disclosed by the Company to the Advisor and/or created as a result of the Services (including Work Product), of any type, form (including orally) or media, including (without limitation), code, specifications, architecture, design, data, algorithms, business plans, budget, customers / suppliers lists etc.), but excluding information which prior to the disclosure was publicly available or known to the Advisor (both without breach of any confidentiality obligation towards the Company).\n",
      "Use: The Advisor may use the Confidential Information only for the purpose of providing the Services and shall not obtain any rights in it. The Advisor shall stop using Confidential Information and/or return it to the Company and/or destroy it immediately upon Company’s request. The Advisor may disclose Confidential Information in case this is required by law, but only to the extent required and after providing the Company a prompt written notice and subject to promptly cooperate with the Company in seeking a protective order.\n",
      "Safeguard: The Advisor shall safeguard the Confidential Information, keep it in strict confidence and shall not disclose it to any third party without the prior written consent of the Company.\n",
      "IP: Any Work Product, upon creation, shall be fully and exclusively owned by the Company. The Advisor, immediately upon Company’s request, shall sign any document and/or perform any action needed to formalize such ownership. The Advisor shall not obtain any rights in the Work Product, including moral rights and/or rights for royalties or other consideration under any applicable law (including Section 134 of the Israeli Patent Law – 1967 if applicable), and shall not be entitled to any compensation with respect to the Services, which was not specifically agreed, in writing, between the Advisor and the Company.\n",
      "Non-Compete: During the term of engagement with the Company and for a period of 12 months thereafter, Advisor shall not be involved, as an employee, owner, contractor or otherwise, in any business, which competes with the Company’s Business, and shall not solicit and/or hire any employee and/or service provider of the Company, without the prior written consent of the Company.\n",
      "Personnel: The Advisor may provide the Services only directly or through employees, contractors or agents (“Personnel”), which were specifically approved by the Company, and have committed in writing to confidentiality and ownership rights towards the Advisor and/or the Company, in a form restrictive enough to allow Advisor to comply and enforce the commitments under this undertaking (“Authorized Personnel”). Without limiting the foregoing, the Advisor is liable hereunder for any breach of this undertaking by any Advisor Personnel.\n",
      "Third Parties: The Advisor represents that the performance of the Services and the terms of this Undertaking, do not and will not breach any right, contractual or other, of any employer, customer or other third party. Advisor acknowledges that the Company is relying upon the truthfulness and accuracy of such representations in engaging with the Advisor. Advisor specifically undertakes not to use any proprietary and/or confidential information belonging to the Advisor and/or any third party while performing the Services and in case any Advisor proprietary or confidential information is used, such information will be automatically assigned to the Company and become its full and exclusive property.\n",
      "Jurisdiction: This Undertaking shall be governed by and construed in accordance with the laws of the State of Israel, without giving effect to its laws pertaining to conflict of laws.  The Advisor agrees that any and all disputes in connection with this Undertaking shall be submitted to the exclusive jurisdiction of the competent courts in the city of Tel Aviv-Yafo, Israel.\n",
      "Pre-Undertaking: In case the Advisor has been providing Services to the Company before the Effective Date (“Pre-Undertaking Period”), this Undertaking shall also apply to the Pre-Undertaking Period, including, if relevant, before Company’s incorporation. The Company may assign this undertaking to third parties.\n",
      "IN WITNESS WHEREOF, the undersigned has executed this Undertaking as of the Effective Date.\n",
      "Advisor By: _____________________________________ Name: Jack Robinson\n",
      "Notices: Notices under this Agreement shall be delivered to the party’s email address as follows: Company: info@cloudcorp.com, Advisor: jackrobinson@gmail.com, or in any the other means with a proof of acceptance by the other party.\n",
      "Termination: Either party, at any given time, may terminate this Agreement, for any reason whatsoever, with or without cause, upon fourteen (14) days’ prior written notice. Notwithstanding the above, the Company may terminate this Agreement immediately and without prior notice if Advisor refuses or is unable to perform the Services, or is in breach of any provision of this Agreement.\n",
      "Advisor shall provide to the Company, as an independent contractor, software development services, and / or any other services as agreed by the parties from time to time (the “Services”). Advisor shall not appoint any sub-agents or delegates in connection with performance of the Services, nor assign any of his obligations or rights hereunder without obtaining the prior written consent of the Company.\n",
      "No Conflicts: Advisor represents that there is no contractual or other legal restriction preventing or limiting him/her from entering into this Agreement or performing any of his/her obligations hereunder. Advisor shall immediately and without delay inform the Company of any affairs and/or matters that might constitute a conflict of interest with his/her services to Company and/or the interests of the Company. Advisor agrees to indemnify, defend and hold harmless the Company and its directors, officers and employees against all claims, liabilities, and costs, including reasonable attorneys' fees in connection with any breach by Advisor, of any obligations pursuant to a prior or existing engagement with any other third party, including without limitation other employers or clients.\n",
      "Compensation:\n",
      "Whereas,\tAdvisor has expertise and/or knowledge and/or relationships, which are relevant to the Company’s business and the Company has asked Advisor to provide it with certain Advisory services, as described in this Agreement; and\n",
      "This Advisory Services Agreement is entered into as of June 15th, 2023 (the “Effective Date”), by and between Cloud Investments Ltd., ID 51-426526-3, an Israeli company (the \"Company\"), and Mr. Jack Robinson, Passport Number 780055578, residing at 1 Rabin st, Tel Aviv, Israel, Email: jackrobinson@gmail.com (\"Advisor\").\n",
      "Services:\n",
      "Advisor statutory rights and benefits as employee of the Company throughout the Term. Advisor further consents that the Company may offset any amounts due to him under this Section from any amounts payable to Advisor under this Agreement. Advisor shall indemnify the Company for any loss or expenses incurred by the Company if it were determined that an alleged employer/employee relationship existed between the Advisor and the Company.\n",
      "\n",
      "\n",
      "\n",
      "--------------------------------------------------------------------------------\n",
      "\u001b[33massistant\u001b[0m (to ragproxyagent):\n",
      "\n",
      "The parties to the Agreement are Cloud Investments Ltd. (\"Company\") and Jack Robinson (\"Advisor\").\n",
      "\n",
      "--------------------------------------------------------------------------------\n"
     ]
    }
   ],
   "source": [
    "qa_problem = \"Who are the parties to the Agreement and what are their defined names?\"\n",
    "\n",
    "chat_result = ragproxyagent.initiate_chat(\n",
    "    assistant, message=ragproxyagent.message_generator, problem=qa_problem, n_results=10\n",
    ")"
   ]
  },
  {
   "cell_type": "code",
   "execution_count": 13,
   "metadata": {},
   "outputs": [
    {
     "name": "stdout",
     "output_type": "stream",
     "text": [
      "ChatResult(chat_id=None, chat_history=[{'content': 'You\\'re a retrieve augmented chatbot. You answer user\\'s questions based on your own knowledge and the\\ncontext provided by the user.\\nIf you can\\'t answer the question with or without the current context, you should reply exactly `UPDATE CONTEXT`.\\nYou must give as short an answer as possible.\\n\\nUser\\'s question is: Who are the parties to the Agreement and what are their defined names?\\n\\nContext is: Name:\\tSilvan Joseph\\t\\t\\t\\tName:\\tJack Robinson\\t\\t\\nTitle: CEO\\t\\t\\t\\t\\t\\n\\nConfidentiality, None Compete and IP Ownership Undertaking\\nAppendix A to Advisory Service Agreement as of June 15th, 2023\\nTHIS CONFIDENTIALITY UNDERTAKING (“Undertaking”) is entered into as of June 15th, 2023 (“Effective Date”), by Mr. Jack Robinson, Passport Number 780055578, residing at 1 Rabin st, Tel Aviv, Israel, Email: jackrobinson@gmail.com, (“Advisor”), towards Cloud Investments Ltd (“Company”), as follows:\\nDefinitions: (a) Company’s Business: development of an AI-based contract assistant. (b) Services: Software development services and/or any other services provided by the Advisor to the Company. (c) Work Product: Any product of the Services, tangible and/or intangible, including any inventions, discoveries and/or other intellectual property. (d) Confidential Information: any information disclosed by the Company to the Advisor and/or created as a result of the Services (including Work Product), of any type, form (including orally) or media, including (without limitation), code, specifications, architecture, design, data, algorithms, business plans, budget, customers / suppliers lists etc.), but excluding information which prior to the disclosure was publicly available or known to the Advisor (both without breach of any confidentiality obligation towards the Company).\\nUse: The Advisor may use the Confidential Information only for the purpose of providing the Services and shall not obtain any rights in it. The Advisor shall stop using Confidential Information and/or return it to the Company and/or destroy it immediately upon Company’s request. The Advisor may disclose Confidential Information in case this is required by law, but only to the extent required and after providing the Company a prompt written notice and subject to promptly cooperate with the Company in seeking a protective order.\\nSafeguard: The Advisor shall safeguard the Confidential Information, keep it in strict confidence and shall not disclose it to any third party without the prior written consent of the Company.\\nIP: Any Work Product, upon creation, shall be fully and exclusively owned by the Company. The Advisor, immediately upon Company’s request, shall sign any document and/or perform any action needed to formalize such ownership. The Advisor shall not obtain any rights in the Work Product, including moral rights and/or rights for royalties or other consideration under any applicable law (including Section 134 of the Israeli Patent Law – 1967 if applicable), and shall not be entitled to any compensation with respect to the Services, which was not specifically agreed, in writing, between the Advisor and the Company.\\nNon-Compete: During the term of engagement with the Company and for a period of 12 months thereafter, Advisor shall not be involved, as an employee, owner, contractor or otherwise, in any business, which competes with the Company’s Business, and shall not solicit and/or hire any employee and/or service provider of the Company, without the prior written consent of the Company.\\nPersonnel: The Advisor may provide the Services only directly or through employees, contractors or agents (“Personnel”), which were specifically approved by the Company, and have committed in writing to confidentiality and ownership rights towards the Advisor and/or the Company, in a form restrictive enough to allow Advisor to comply and enforce the commitments under this undertaking (“Authorized Personnel”). Without limiting the foregoing, the Advisor is liable hereunder for any breach of this undertaking by any Advisor Personnel.\\nThird Parties: The Advisor represents that the performance of the Services and the terms of this Undertaking, do not and will not breach any right, contractual or other, of any employer, customer or other third party. Advisor acknowledges that the Company is relying upon the truthfulness and accuracy of such representations in engaging with the Advisor. Advisor specifically undertakes not to use any proprietary and/or confidential information belonging to the Advisor and/or any third party while performing the Services and in case any Advisor proprietary or confidential information is used, such information will be automatically assigned to the Company and become its full and exclusive property.\\nJurisdiction: This Undertaking shall be governed by and construed in accordance with the laws of the State of Israel, without giving effect to its laws pertaining to conflict of laws.\\xa0 The Advisor agrees that any and all disputes in connection with this Undertaking shall be submitted to the exclusive jurisdiction of the competent courts in the city of Tel Aviv-Yafo, Israel.\\nPre-Undertaking: In case the Advisor has been providing Services to the Company before the Effective Date (“Pre-Undertaking Period”), this Undertaking shall also apply to the Pre-Undertaking Period, including, if relevant, before Company’s incorporation. The Company may assign this undertaking to third parties.\\nIN WITNESS WHEREOF, the undersigned has executed this Undertaking as of the Effective Date.\\nAdvisor By: _____________________________________ Name: Jack Robinson\\nNotices: Notices under this Agreement shall be delivered to the party’s email address as follows: Company: info@cloudcorp.com, Advisor: jackrobinson@gmail.com, or in any the other means with a proof of acceptance by the other party.\\nTermination: Either party, at any given time, may terminate this Agreement, for any reason whatsoever, with or without cause, upon fourteen (14) days’ prior written notice. Notwithstanding the above, the Company may terminate this Agreement immediately and without prior notice if Advisor refuses or is unable to perform the Services, or is in breach of any provision of this Agreement.\\nAdvisor shall provide to the Company, as an independent contractor, software development services, and / or any other services as agreed by the parties from time to time (the “Services”). Advisor shall not appoint any sub-agents or delegates in connection with performance of the Services, nor assign any of his obligations or rights hereunder without obtaining the prior written consent of the Company.\\nNo Conflicts: Advisor represents that there is no contractual or other legal restriction preventing or limiting him/her from entering into this Agreement or performing any of his/her obligations hereunder. Advisor shall immediately and without delay inform the Company of any affairs and/or matters that might constitute a conflict of interest with his/her services to Company and/or the interests of the Company. Advisor agrees to indemnify, defend and hold harmless the Company and its directors, officers and employees against all claims, liabilities, and costs, including reasonable attorneys\\' fees in connection with any breach by Advisor, of any obligations pursuant to a prior or existing engagement with any other third party, including without limitation other employers or clients.\\nCompensation:\\nWhereas,\\tAdvisor has expertise and/or knowledge and/or relationships, which are relevant to the Company’s business and the Company has asked Advisor to provide it with certain Advisory services, as described in this Agreement; and\\nThis Advisory Services Agreement is entered into as of June 15th, 2023 (the “Effective Date”), by and between Cloud Investments Ltd., ID 51-426526-3, an Israeli company (the \"Company\"), and Mr. Jack Robinson, Passport Number 780055578, residing at 1 Rabin st, Tel Aviv, Israel, Email: jackrobinson@gmail.com (\"Advisor\").\\nServices:\\nAdvisor statutory rights and benefits as employee of the Company throughout the Term. Advisor further consents that the Company may offset any amounts due to him under this Section from any amounts payable to Advisor under this Agreement. Advisor shall indemnify the Company for any loss or expenses incurred by the Company if it were determined that an alleged employer/employee relationship existed between the Advisor and the Company.\\n\\n', 'role': 'assistant'}, {'content': 'The parties to the Agreement are Cloud Investments Ltd. (\"Company\") and Jack Robinson (\"Advisor\").', 'role': 'user'}], summary='The parties to the Agreement are Cloud Investments Ltd. (\"Company\") and Jack Robinson (\"Advisor\").', cost={'usage_including_cached_inference': {'total_cost': 0.01198, 'gpt-4o-2024-05-13': {'cost': 0.01198, 'prompt_tokens': 2330, 'completion_tokens': 22, 'total_tokens': 2352}}, 'usage_excluding_cached_inference': {'total_cost': 0.01198, 'gpt-4o-2024-05-13': {'cost': 0.01198, 'prompt_tokens': 2330, 'completion_tokens': 22, 'total_tokens': 2352}}}, human_input=[])\n"
     ]
    }
   ],
   "source": [
    "print(chat_result)"
   ]
  },
  {
   "cell_type": "code",
   "execution_count": null,
   "metadata": {},
   "outputs": [],
   "source": []
  }
 ],
 "metadata": {
  "kernelspec": {
   "display_name": ".venv",
   "language": "python",
   "name": "python3"
  },
  "language_info": {
   "codemirror_mode": {
    "name": "ipython",
    "version": 3
   },
   "file_extension": ".py",
   "mimetype": "text/x-python",
   "name": "python",
   "nbconvert_exporter": "python",
   "pygments_lexer": "ipython3",
   "version": "3.10.12"
  }
 },
 "nbformat": 4,
 "nbformat_minor": 2
}
